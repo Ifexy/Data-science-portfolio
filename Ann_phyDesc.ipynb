{
 "cells": [
  {
   "cell_type": "code",
   "execution_count": 1,
   "id": "800db942",
   "metadata": {},
   "outputs": [],
   "source": [
    "import random \n",
    "import warnings\n",
    "import pandas as pd \n",
    "import numpy as np\n",
    "import matplotlib.pyplot as plt \n",
    "warnings.filterwarnings('ignore')\n",
    "from sklearn.preprocessing import StandardScaler\n",
    "from sklearn.model_selection import train_test_split"
   ]
  },
  {
   "cell_type": "code",
   "execution_count": 2,
   "id": "75b97315",
   "metadata": {},
   "outputs": [],
   "source": [
    "import os \n",
    "os.environ['PYTHONHASHSEED']=str(1)"
   ]
  },
  {
   "cell_type": "code",
   "execution_count": 3,
   "id": "1bc12969",
   "metadata": {},
   "outputs": [],
   "source": [
    "import tensorflow as tf \n",
    "import tensorflow.keras as keras \n",
    "import tensorflow.keras.layers "
   ]
  },
  {
   "cell_type": "code",
   "execution_count": 4,
   "id": "9c8943e5",
   "metadata": {},
   "outputs": [],
   "source": [
    "def reset_random_seeds():\n",
    "    os.environ['PYTHONHASHSEED']=str(1)\n",
    "    tf.random.set_seed(1)\n",
    "    np.random.seed(1)\n",
    "    random.seed(1)"
   ]
  },
  {
   "cell_type": "code",
   "execution_count": 5,
   "id": "c8b42508",
   "metadata": {},
   "outputs": [],
   "source": [
    "data=pd.read_csv('C:\\\\Users\\\\C2074370\\\\1-projects\\\\Phys_Descrip.txt')"
   ]
  },
  {
   "cell_type": "code",
   "execution_count": 6,
   "id": "da21d99e",
   "metadata": {},
   "outputs": [],
   "source": [
    "data.drop(['Config','Ecoh','Eb','Eadh'], axis=1, inplace=True)"
   ]
  },
  {
   "cell_type": "code",
   "execution_count": 7,
   "id": "5dc13927",
   "metadata": {},
   "outputs": [],
   "source": [
    "X=data.iloc[:,:-1] ## independent features\n",
    "y=data.iloc[:,-1] ## dependent features"
   ]
  },
  {
   "cell_type": "code",
   "execution_count": 8,
   "id": "999d5a64",
   "metadata": {},
   "outputs": [],
   "source": [
    "scaler=StandardScaler()\n",
    "X_=train_scaled=scaler.fit(X)\n",
    "X_train_scaled=scaler.transform(X)\n",
    "\n",
    "y_scaled=(y-np.mean(y))/np.std(y)"
   ]
  },
  {
   "cell_type": "code",
   "execution_count": 9,
   "id": "c1b35b92",
   "metadata": {},
   "outputs": [],
   "source": [
    "X_train, X_test, y_train, y_test = train_test_split(X_train_scaled, y_scaled, test_size=0.25,random_state=0)"
   ]
  },
  {
   "cell_type": "code",
   "execution_count": 10,
   "id": "18870e4f",
   "metadata": {},
   "outputs": [],
   "source": [
    "import keras\n",
    "from keras.models import Sequential\n",
    "from keras.layers import Dense\n",
    "from keras.layers import LeakyReLU,PReLU,ELU\n",
    "from keras.layers import Dropout"
   ]
  },
  {
   "cell_type": "code",
   "execution_count": 11,
   "id": "e4844148",
   "metadata": {},
   "outputs": [
    {
     "name": "stdout",
     "output_type": "stream",
     "text": [
      "Model: \"sequential\"\n",
      "_________________________________________________________________\n",
      "Layer (type)                 Output Shape              Param #   \n",
      "=================================================================\n",
      "dense (Dense)                (None, 360)               4320      \n",
      "_________________________________________________________________\n",
      "dense_1 (Dense)              (None, 360)               129960    \n",
      "_________________________________________________________________\n",
      "dense_2 (Dense)              (None, 360)               129960    \n",
      "_________________________________________________________________\n",
      "dense_3 (Dense)              (None, 180)               64980     \n",
      "_________________________________________________________________\n",
      "dense_4 (Dense)              (None, 180)               32580     \n",
      "_________________________________________________________________\n",
      "dense_5 (Dense)              (None, 90)                16290     \n",
      "_________________________________________________________________\n",
      "dense_6 (Dense)              (None, 1)                 91        \n",
      "=================================================================\n",
      "Total params: 378,181\n",
      "Trainable params: 378,181\n",
      "Non-trainable params: 0\n",
      "_________________________________________________________________\n"
     ]
    }
   ],
   "source": [
    "reset_random_seeds()\n",
    "Ann_model = Sequential()\n",
    "\n",
    "# The Input Layer :\n",
    "Ann_model.add(Dense(360, kernel_initializer='normal',input_dim = 11, activation='relu'))\n",
    "#Ann_model.add(Dropout(0.2, input_shape=(11,)))\n",
    "\n",
    "# The Hidden Layers :\n",
    "Ann_model.add(Dense(360,activation='relu'))\n",
    "Ann_model.add(Dense(360,activation='relu'))\n",
    "Ann_model.add(Dense(180,activation='relu'))\n",
    "Ann_model.add(Dense(180,activation='relu'))\n",
    "Ann_model.add(Dense(90,activation='relu'))\n",
    "\n",
    "# The Output Layer :\n",
    "Ann_model.add(Dense(1,activation='linear'))\n",
    "\n",
    "# Compile the network :\n",
    "Ann_model.compile(loss='mse', optimizer='adagrad', metrics=['mean_squared_error'])\n",
    "Ann_model.summary()\n",
    "\n",
    "# Fitting the ANN to the Training set\n",
    "model_history=Ann_model.fit(X_train, y_train,validation_data=(X_train,y_train),verbose=0, batch_size = 10, epochs = 100)"
   ]
  },
  {
   "cell_type": "code",
   "execution_count": 12,
   "id": "0c95594e",
   "metadata": {
    "scrolled": false
   },
   "outputs": [
    {
     "data": {
      "image/png": "[encoded data removed]",
      "text/plain": [
       "<Figure size 432x288 with 1 Axes>"
      ]
     },
     "metadata": {
      "needs_background": "light"
     },
     "output_type": "display_data"
    }
   ],
   "source": [
    "plt.plot(model_history.history['loss'], label='Training')\n",
    "plt.plot(model_history.history['val_loss'], label='Test')\n",
    "plt.ylabel('loss')\n",
    "plt.xlabel('epoch')\n",
    "plt.legend(loc='upper right')\n",
    "plt.show()"
   ]
  },
  {
   "cell_type": "code",
   "execution_count": 13,
   "id": "7d4a4d50",
   "metadata": {
    "scrolled": true
   },
   "outputs": [
    {
     "data": {
      "image/png": "[encoded data removed]",
      "text/plain": [
       "<Figure size 504x504 with 1 Axes>"
      ]
     },
     "metadata": {
      "needs_background": "light"
     },
     "output_type": "display_data"
    }
   ],
   "source": [
    "pred_test=Ann_model.predict(X_test)\n",
    "pred_train=Ann_model.predict(X_train)\n",
    "\n",
    "plt.figure(figsize=(7,7))\n",
    "plt.scatter(y_train,pred_train, marker='o', color='#f97306', label='train' )\n",
    "plt.scatter(y_test,pred_test, marker='+', color='#3f9b0b', label='test' )\n",
    "plt.legend(loc='upper left')\n",
    "plt.plot(y_train,y_train, color='#00035b')\n",
    "plt.xlabel('True')\n",
    "plt.ylabel('Predicted')\n",
    "plt.show()"
   ]
  },
  {
   "cell_type": "code",
   "execution_count": 14,
   "id": "c57b936f",
   "metadata": {},
   "outputs": [],
   "source": [
    "from sklearn import metrics \n",
    "from sklearn.metrics import r2_score"
   ]
  },
  {
   "cell_type": "code",
   "execution_count": 15,
   "id": "ff560a60",
   "metadata": {},
   "outputs": [
    {
     "name": "stdout",
     "output_type": "stream",
     "text": [
      "MAE: 0.13709040626123223\n",
      "MSE: 0.07542127877171856\n",
      "RMSE: 0.2746293479796334\n",
      "R_squared:0.9\n"
     ]
    }
   ],
   "source": [
    "print('MAE:', metrics.mean_absolute_error(y_test, pred_test))\n",
    "print('MSE:', metrics.mean_squared_error(y_test, pred_test))\n",
    "print('RMSE:', np.sqrt(metrics.mean_squared_error(y_test, pred_test)))\n",
    "print('R_squared:'+ str(round(r2_score(y_test,pred_test),2)))"
   ]
  },
  {
   "cell_type": "code",
   "execution_count": 16,
   "id": "462873a0",
   "metadata": {
    "scrolled": true
   },
   "outputs": [
    {
     "data": {
      "image/png": "[encoded data removed]",
      "text/plain": [
       "<Figure size 432x288 with 1 Axes>"
      ]
     },
     "metadata": {
      "needs_background": "light"
     },
     "output_type": "display_data"
    }
   ],
   "source": [
    "import seaborn as sns\n",
    "sns.distplot(y_test.values.reshape(-1,1)-pred_test);"
   ]
  },
  {
   "cell_type": "code",
   "execution_count": 17,
   "id": "8d07f964",
   "metadata": {},
   "outputs": [
    {
     "data": {
      "text/plain": [
       "0.054600238394931756"
      ]
     },
     "execution_count": 17,
     "metadata": {},
     "output_type": "execute_result"
    }
   ],
   "source": [
    "np.mean(y_test)"
   ]
  },
  {
   "cell_type": "code",
   "execution_count": 18,
   "id": "55f6d2d6",
   "metadata": {},
   "outputs": [
    {
     "data": {
      "text/plain": [
       "0.07873616"
      ]
     },
     "execution_count": 18,
     "metadata": {},
     "output_type": "execute_result"
    }
   ],
   "source": [
    "np.mean(pred_test)"
   ]
  }
 ],
 "metadata": {
  "kernelspec": {
   "display_name": "Python 3",
   "language": "python",
   "name": "python3"
  },
  "language_info": {
   "codemirror_mode": {
    "name": "ipython",
    "version": 3
   },
   "file_extension": ".py",
   "mimetype": "text/x-python",
   "name": "python",
   "nbconvert_exporter": "python",
   "pygments_lexer": "ipython3",
   "version": "3.9.5"
  }
 },
 "nbformat": 4,
 "nbformat_minor": 5
}
