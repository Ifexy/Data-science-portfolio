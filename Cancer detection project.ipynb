{
 "cells": [
  {
   "cell_type": "markdown",
   "id": "c8d5470c",
   "metadata": {},
   "source": [
    "### Importing Libraries\n",
    "\n",
    "\n",
    "The first thing we do is to import our libraries and dependencies to help us interact with the python kernel. In the code cell below, we import **pandas** for dataframe manipulation, **matplotlib** and **seaborn** for visualisation, **MinMaxSclaer** for feature scaling our data. \n",
    "\n",
    "We also import our **Naive Bayes** and **Logistic regression** models from the sklearn python module for machine learning. We use the **train_test_split** to divide the data into the **training and testing** subdatasets for **module training** and **evaluation**. \n",
    "\n",
    "lastly we use our **metrics**, **confusion matrix**, **Accuracy_score** and **classification_report** to evaluate our model performance."
   ]
  },
  {
   "cell_type": "code",
   "execution_count": 1,
   "id": "9d708e78",
   "metadata": {},
   "outputs": [],
   "source": [
    "import pandas as pd \n",
    "import matplotlib.pyplot as plt\n",
    "import seaborn as sns\n",
    "from sklearn.preprocessing import MinMaxScaler\n",
    "from sklearn.linear_model import LogisticRegression\n",
    "from sklearn.naive_bayes import GaussianNB\n",
    "from sklearn.model_selection import train_test_split\n",
    "from sklearn import metrics\n",
    "from sklearn.metrics import plot_confusion_matrix\n",
    "from sklearn.metrics import accuracy_score,confusion_matrix,classification_report"
   ]
  },
  {
   "cell_type": "markdown",
   "id": "f74304b1",
   "metadata": {},
   "source": [
    "### Exploratory Data Analysis\n",
    "\n",
    "Exploratory data analysis is a vital part of any data science project, this step is so pivotal because it is during this stage that we clean up our data and make sure it is fit for purpose before modelling. In the follwing code cells (cells 2-7), we load the data into python(2), then display the first five rows (3). In cell 4, we inspect the **dimension**, **data types**, **number of unique variables in each column** and **print the number of null values in each variable**. \n",
    "\n",
    "\n",
    "In cell 5, we add the total number of null values in our entire data set and find out we have **0** nulls. Cell 6 is where we check for duplicate rows in the dataset and find out there are **234** rows with exactly same values for each column, these duplicates are redundant and need to be dropped to reduce compuatation time during training. "
   ]
  },
  {
   "cell_type": "code",
   "execution_count": 2,
   "id": "05f47db3",
   "metadata": {},
   "outputs": [],
   "source": [
    "#importing data\n",
    "data=pd.read_csv(\"C:\\\\Users\\\\Okwuazu\\\\Downloads\\\\cancerdata.csv\")"
   ]
  },
  {
   "cell_type": "code",
   "execution_count": 3,
   "id": "416a8539",
   "metadata": {
    "scrolled": true
   },
   "outputs": [
    {
     "data": {
      "text/html": [
       "<div>\n",
       "<style scoped>\n",
       "    .dataframe tbody tr th:only-of-type {\n",
       "        vertical-align: middle;\n",
       "    }\n",
       "\n",
       "    .dataframe tbody tr th {\n",
       "        vertical-align: top;\n",
       "    }\n",
       "\n",
       "    .dataframe thead th {\n",
       "        text-align: right;\n",
       "    }\n",
       "</style>\n",
       "<table border=\"1\" class=\"dataframe\">\n",
       "  <thead>\n",
       "    <tr style=\"text-align: right;\">\n",
       "      <th></th>\n",
       "      <th>Cl.thickness</th>\n",
       "      <th>Cell.size</th>\n",
       "      <th>Cell.shape</th>\n",
       "      <th>Marg.adhesion</th>\n",
       "      <th>Epith.c.size</th>\n",
       "      <th>Bare.nuclei</th>\n",
       "      <th>Bl.cromatin</th>\n",
       "      <th>Normal.nucleoli</th>\n",
       "      <th>Mitoses</th>\n",
       "      <th>Class</th>\n",
       "    </tr>\n",
       "  </thead>\n",
       "  <tbody>\n",
       "    <tr>\n",
       "      <th>0</th>\n",
       "      <td>4.454847</td>\n",
       "      <td>2.386095</td>\n",
       "      <td>2.295170</td>\n",
       "      <td>2.530536</td>\n",
       "      <td>2.723036</td>\n",
       "      <td>2.393815</td>\n",
       "      <td>3.582104</td>\n",
       "      <td>2.591299</td>\n",
       "      <td>3.199268</td>\n",
       "      <td>0</td>\n",
       "    </tr>\n",
       "    <tr>\n",
       "      <th>1</th>\n",
       "      <td>4.454847</td>\n",
       "      <td>4.637212</td>\n",
       "      <td>4.603958</td>\n",
       "      <td>5.742196</td>\n",
       "      <td>7.896027</td>\n",
       "      <td>8.074609</td>\n",
       "      <td>3.582104</td>\n",
       "      <td>3.344739</td>\n",
       "      <td>3.199268</td>\n",
       "      <td>0</td>\n",
       "    </tr>\n",
       "    <tr>\n",
       "      <th>2</th>\n",
       "      <td>2.824082</td>\n",
       "      <td>2.386095</td>\n",
       "      <td>2.295170</td>\n",
       "      <td>2.530536</td>\n",
       "      <td>2.723036</td>\n",
       "      <td>3.025014</td>\n",
       "      <td>3.582104</td>\n",
       "      <td>2.591299</td>\n",
       "      <td>3.199268</td>\n",
       "      <td>0</td>\n",
       "    </tr>\n",
       "    <tr>\n",
       "      <th>3</th>\n",
       "      <td>5.270230</td>\n",
       "      <td>7.638702</td>\n",
       "      <td>7.682342</td>\n",
       "      <td>2.530536</td>\n",
       "      <td>3.757634</td>\n",
       "      <td>4.287413</td>\n",
       "      <td>3.582104</td>\n",
       "      <td>7.111938</td>\n",
       "      <td>3.199268</td>\n",
       "      <td>0</td>\n",
       "    </tr>\n",
       "    <tr>\n",
       "      <th>4</th>\n",
       "      <td>3.639465</td>\n",
       "      <td>2.386095</td>\n",
       "      <td>2.295170</td>\n",
       "      <td>4.136366</td>\n",
       "      <td>2.723036</td>\n",
       "      <td>2.393815</td>\n",
       "      <td>3.582104</td>\n",
       "      <td>2.591299</td>\n",
       "      <td>3.199268</td>\n",
       "      <td>0</td>\n",
       "    </tr>\n",
       "  </tbody>\n",
       "</table>\n",
       "</div>"
      ],
      "text/plain": [
       "   Cl.thickness  Cell.size  Cell.shape  Marg.adhesion  Epith.c.size  \\\n",
       "0      4.454847   2.386095    2.295170       2.530536      2.723036   \n",
       "1      4.454847   4.637212    4.603958       5.742196      7.896027   \n",
       "2      2.824082   2.386095    2.295170       2.530536      2.723036   \n",
       "3      5.270230   7.638702    7.682342       2.530536      3.757634   \n",
       "4      3.639465   2.386095    2.295170       4.136366      2.723036   \n",
       "\n",
       "   Bare.nuclei  Bl.cromatin  Normal.nucleoli   Mitoses  Class  \n",
       "0     2.393815     3.582104         2.591299  3.199268      0  \n",
       "1     8.074609     3.582104         3.344739  3.199268      0  \n",
       "2     3.025014     3.582104         2.591299  3.199268      0  \n",
       "3     4.287413     3.582104         7.111938  3.199268      0  \n",
       "4     2.393815     3.582104         2.591299  3.199268      0  "
      ]
     },
     "execution_count": 3,
     "metadata": {},
     "output_type": "execute_result"
    }
   ],
   "source": [
    "#displaying data \n",
    "data.head()"
   ]
  },
  {
   "cell_type": "code",
   "execution_count": 4,
   "id": "77d4d598",
   "metadata": {},
   "outputs": [
    {
     "name": "stdout",
     "output_type": "stream",
     "text": [
      "(683, 10)\n",
      "...........................................................\n",
      "<class 'pandas.core.frame.DataFrame'>\n",
      "RangeIndex: 683 entries, 0 to 682\n",
      "Data columns (total 10 columns):\n",
      " #   Column           Non-Null Count  Dtype  \n",
      "---  ------           --------------  -----  \n",
      " 0   Cl.thickness     683 non-null    float64\n",
      " 1   Cell.size        683 non-null    float64\n",
      " 2   Cell.shape       683 non-null    float64\n",
      " 3   Marg.adhesion    683 non-null    float64\n",
      " 4   Epith.c.size     683 non-null    float64\n",
      " 5   Bare.nuclei      683 non-null    float64\n",
      " 6   Bl.cromatin      683 non-null    float64\n",
      " 7   Normal.nucleoli  683 non-null    float64\n",
      " 8   Mitoses          683 non-null    float64\n",
      " 9   Class            683 non-null    int64  \n",
      "dtypes: float64(9), int64(1)\n",
      "memory usage: 53.5 KB\n",
      "None\n",
      "...........................................................\n",
      "       Cl.thickness   Cell.size  Cell.shape  Marg.adhesion  Epith.c.size  \\\n",
      "count    683.000000  683.000000  683.000000     683.000000    683.000000   \n",
      "mean       4.000000    4.000000    4.000000       4.000000      4.000000   \n",
      "std        2.300000    2.300000    2.300000       2.300000      2.300000   \n",
      "min        1.193317    2.386095    2.295170       2.530536      1.688438   \n",
      "25%        2.008699    2.386095    2.295170       2.530536      2.723036   \n",
      "50%        3.639465    2.386095    2.295170       2.530536      2.723036   \n",
      "75%        5.270230    5.387585    5.373554       4.939281      4.792233   \n",
      "max        8.531761    9.139446    9.221535       9.756771     10.999821   \n",
      "\n",
      "       Bare.nuclei  Bl.cromatin  Normal.nucleoli     Mitoses       Class  \n",
      "count   683.000000   683.000000       683.000000  683.000000  683.000000  \n",
      "mean      4.000000     4.000000         4.000000    4.000000    0.349927  \n",
      "std       2.300000     2.300000         2.300000    2.300000    0.477296  \n",
      "min       2.393815     1.704320         2.591299    3.199268    0.000000  \n",
      "25%       2.393815     2.643212         2.591299    3.199268    0.000000  \n",
      "50%       2.393815     3.582104         2.591299    3.199268    0.000000  \n",
      "75%       5.549811     5.459887         4.851618    3.199268    1.000000  \n",
      "max       8.074609    10.154346         9.372257   15.146119    1.000000  \n",
      "...........................................................\n",
      "Cl.thickness       683\n",
      "Cell.size          683\n",
      "Cell.shape         683\n",
      "Marg.adhesion      683\n",
      "Epith.c.size       683\n",
      "Bare.nuclei        683\n",
      "Bl.cromatin        683\n",
      "Normal.nucleoli    683\n",
      "Mitoses            683\n",
      "Class              683\n",
      "dtype: int64\n",
      "...........................................................\n",
      "Cl.thickness       10\n",
      "Cell.size          10\n",
      "Cell.shape         10\n",
      "Marg.adhesion      10\n",
      "Epith.c.size       10\n",
      "Bare.nuclei        10\n",
      "Bl.cromatin        10\n",
      "Normal.nucleoli    10\n",
      "Mitoses             9\n",
      "Class               2\n",
      "dtype: int64\n"
     ]
    }
   ],
   "source": [
    "print(data.shape)                 #display dimension of the data set \n",
    "print('...........................................................')\n",
    "print(data.info())                # display column type \n",
    "print('...........................................................')\n",
    "print(data.describe())            #Quick statistical summary of the dataframe \n",
    "print('...........................................................')\n",
    "print(data.isnull().count())      #check for null values\n",
    "print('...........................................................')\n",
    "print(data.nunique())              #check for the number of unique elements in each column  "
   ]
  },
  {
   "cell_type": "code",
   "execution_count": 5,
   "id": "3577dfff",
   "metadata": {},
   "outputs": [
    {
     "data": {
      "text/plain": [
       "0"
      ]
     },
     "execution_count": 5,
     "metadata": {},
     "output_type": "execute_result"
    }
   ],
   "source": [
    "# To know the number of missing values \n",
    "data.isna().sum().sum()"
   ]
  },
  {
   "cell_type": "code",
   "execution_count": 6,
   "id": "dabc4678",
   "metadata": {},
   "outputs": [
    {
     "data": {
      "text/plain": [
       "234"
      ]
     },
     "execution_count": 6,
     "metadata": {},
     "output_type": "execute_result"
    }
   ],
   "source": [
    "#Display the number of duplicate rows in the data \n",
    "data.duplicated().sum()"
   ]
  },
  {
   "cell_type": "code",
   "execution_count": 7,
   "id": "64bc7563",
   "metadata": {
    "scrolled": true
   },
   "outputs": [
    {
     "data": {
      "text/html": [
       "<div>\n",
       "<style scoped>\n",
       "    .dataframe tbody tr th:only-of-type {\n",
       "        vertical-align: middle;\n",
       "    }\n",
       "\n",
       "    .dataframe tbody tr th {\n",
       "        vertical-align: top;\n",
       "    }\n",
       "\n",
       "    .dataframe thead th {\n",
       "        text-align: right;\n",
       "    }\n",
       "</style>\n",
       "<table border=\"1\" class=\"dataframe\">\n",
       "  <thead>\n",
       "    <tr style=\"text-align: right;\">\n",
       "      <th></th>\n",
       "      <th>Cl.thickness</th>\n",
       "      <th>Cell.size</th>\n",
       "      <th>Cell.shape</th>\n",
       "      <th>Marg.adhesion</th>\n",
       "      <th>Epith.c.size</th>\n",
       "      <th>Bare.nuclei</th>\n",
       "      <th>Bl.cromatin</th>\n",
       "      <th>Normal.nucleoli</th>\n",
       "      <th>Mitoses</th>\n",
       "      <th>Class</th>\n",
       "    </tr>\n",
       "  </thead>\n",
       "  <tbody>\n",
       "    <tr>\n",
       "      <th>0</th>\n",
       "      <td>4.454847</td>\n",
       "      <td>2.386095</td>\n",
       "      <td>2.295170</td>\n",
       "      <td>2.530536</td>\n",
       "      <td>2.723036</td>\n",
       "      <td>2.393815</td>\n",
       "      <td>3.582104</td>\n",
       "      <td>2.591299</td>\n",
       "      <td>3.199268</td>\n",
       "      <td>0</td>\n",
       "    </tr>\n",
       "    <tr>\n",
       "      <th>1</th>\n",
       "      <td>4.454847</td>\n",
       "      <td>4.637212</td>\n",
       "      <td>4.603958</td>\n",
       "      <td>5.742196</td>\n",
       "      <td>7.896027</td>\n",
       "      <td>8.074609</td>\n",
       "      <td>3.582104</td>\n",
       "      <td>3.344739</td>\n",
       "      <td>3.199268</td>\n",
       "      <td>0</td>\n",
       "    </tr>\n",
       "    <tr>\n",
       "      <th>2</th>\n",
       "      <td>2.824082</td>\n",
       "      <td>2.386095</td>\n",
       "      <td>2.295170</td>\n",
       "      <td>2.530536</td>\n",
       "      <td>2.723036</td>\n",
       "      <td>3.025014</td>\n",
       "      <td>3.582104</td>\n",
       "      <td>2.591299</td>\n",
       "      <td>3.199268</td>\n",
       "      <td>0</td>\n",
       "    </tr>\n",
       "    <tr>\n",
       "      <th>3</th>\n",
       "      <td>5.270230</td>\n",
       "      <td>7.638702</td>\n",
       "      <td>7.682342</td>\n",
       "      <td>2.530536</td>\n",
       "      <td>3.757634</td>\n",
       "      <td>4.287413</td>\n",
       "      <td>3.582104</td>\n",
       "      <td>7.111938</td>\n",
       "      <td>3.199268</td>\n",
       "      <td>0</td>\n",
       "    </tr>\n",
       "    <tr>\n",
       "      <th>4</th>\n",
       "      <td>3.639465</td>\n",
       "      <td>2.386095</td>\n",
       "      <td>2.295170</td>\n",
       "      <td>4.136366</td>\n",
       "      <td>2.723036</td>\n",
       "      <td>2.393815</td>\n",
       "      <td>3.582104</td>\n",
       "      <td>2.591299</td>\n",
       "      <td>3.199268</td>\n",
       "      <td>0</td>\n",
       "    </tr>\n",
       "    <tr>\n",
       "      <th>...</th>\n",
       "      <td>...</td>\n",
       "      <td>...</td>\n",
       "      <td>...</td>\n",
       "      <td>...</td>\n",
       "      <td>...</td>\n",
       "      <td>...</td>\n",
       "      <td>...</td>\n",
       "      <td>...</td>\n",
       "      <td>...</td>\n",
       "      <td>...</td>\n",
       "    </tr>\n",
       "    <tr>\n",
       "      <th>677</th>\n",
       "      <td>2.824082</td>\n",
       "      <td>2.386095</td>\n",
       "      <td>2.295170</td>\n",
       "      <td>2.530536</td>\n",
       "      <td>2.723036</td>\n",
       "      <td>2.393815</td>\n",
       "      <td>2.643212</td>\n",
       "      <td>2.591299</td>\n",
       "      <td>4.526695</td>\n",
       "      <td>0</td>\n",
       "    </tr>\n",
       "    <tr>\n",
       "      <th>678</th>\n",
       "      <td>2.824082</td>\n",
       "      <td>2.386095</td>\n",
       "      <td>2.295170</td>\n",
       "      <td>2.530536</td>\n",
       "      <td>3.757634</td>\n",
       "      <td>3.025014</td>\n",
       "      <td>1.704320</td>\n",
       "      <td>2.591299</td>\n",
       "      <td>3.199268</td>\n",
       "      <td>0</td>\n",
       "    </tr>\n",
       "    <tr>\n",
       "      <th>680</th>\n",
       "      <td>4.454847</td>\n",
       "      <td>9.139446</td>\n",
       "      <td>9.221535</td>\n",
       "      <td>4.136366</td>\n",
       "      <td>7.896027</td>\n",
       "      <td>3.656214</td>\n",
       "      <td>8.276563</td>\n",
       "      <td>9.372257</td>\n",
       "      <td>4.526695</td>\n",
       "      <td>1</td>\n",
       "    </tr>\n",
       "    <tr>\n",
       "      <th>681</th>\n",
       "      <td>3.639465</td>\n",
       "      <td>7.638702</td>\n",
       "      <td>6.143150</td>\n",
       "      <td>4.939281</td>\n",
       "      <td>3.757634</td>\n",
       "      <td>4.287413</td>\n",
       "      <td>10.154346</td>\n",
       "      <td>6.358498</td>\n",
       "      <td>3.199268</td>\n",
       "      <td>1</td>\n",
       "    </tr>\n",
       "    <tr>\n",
       "      <th>682</th>\n",
       "      <td>3.639465</td>\n",
       "      <td>7.638702</td>\n",
       "      <td>7.682342</td>\n",
       "      <td>5.742196</td>\n",
       "      <td>4.792233</td>\n",
       "      <td>4.918612</td>\n",
       "      <td>10.154346</td>\n",
       "      <td>4.851618</td>\n",
       "      <td>3.199268</td>\n",
       "      <td>1</td>\n",
       "    </tr>\n",
       "  </tbody>\n",
       "</table>\n",
       "<p>449 rows × 10 columns</p>\n",
       "</div>"
      ],
      "text/plain": [
       "     Cl.thickness  Cell.size  Cell.shape  Marg.adhesion  Epith.c.size  \\\n",
       "0        4.454847   2.386095    2.295170       2.530536      2.723036   \n",
       "1        4.454847   4.637212    4.603958       5.742196      7.896027   \n",
       "2        2.824082   2.386095    2.295170       2.530536      2.723036   \n",
       "3        5.270230   7.638702    7.682342       2.530536      3.757634   \n",
       "4        3.639465   2.386095    2.295170       4.136366      2.723036   \n",
       "..            ...        ...         ...            ...           ...   \n",
       "677      2.824082   2.386095    2.295170       2.530536      2.723036   \n",
       "678      2.824082   2.386095    2.295170       2.530536      3.757634   \n",
       "680      4.454847   9.139446    9.221535       4.136366      7.896027   \n",
       "681      3.639465   7.638702    6.143150       4.939281      3.757634   \n",
       "682      3.639465   7.638702    7.682342       5.742196      4.792233   \n",
       "\n",
       "     Bare.nuclei  Bl.cromatin  Normal.nucleoli   Mitoses  Class  \n",
       "0       2.393815     3.582104         2.591299  3.199268      0  \n",
       "1       8.074609     3.582104         3.344739  3.199268      0  \n",
       "2       3.025014     3.582104         2.591299  3.199268      0  \n",
       "3       4.287413     3.582104         7.111938  3.199268      0  \n",
       "4       2.393815     3.582104         2.591299  3.199268      0  \n",
       "..           ...          ...              ...       ...    ...  \n",
       "677     2.393815     2.643212         2.591299  4.526695      0  \n",
       "678     3.025014     1.704320         2.591299  3.199268      0  \n",
       "680     3.656214     8.276563         9.372257  4.526695      1  \n",
       "681     4.287413    10.154346         6.358498  3.199268      1  \n",
       "682     4.918612    10.154346         4.851618  3.199268      1  \n",
       "\n",
       "[449 rows x 10 columns]"
      ]
     },
     "execution_count": 7,
     "metadata": {},
     "output_type": "execute_result"
    }
   ],
   "source": [
    "#drop duplicate values \n",
    "data.drop_duplicates(subset=None, keep='first', inplace=True)\n",
    "data"
   ]
  },
  {
   "cell_type": "markdown",
   "id": "03a6382a",
   "metadata": {},
   "source": [
    "### Data splitting \n",
    "\n",
    "It is always good practise to separate our dataset into dependent(y) and independent variables (X). This would help us perform feature scaling on the inputs only, while maintaining the integrity of the target variable. \n",
    "\n",
    "The inputs(indepenent variables) are stored in a variable X and contain the following columns:\n",
    "\n",
    "**• Cl.thickness - Clump Thickness**\n",
    "\n",
    "**• Cell.size - Uniformity of Cell Size**\n",
    "\n",
    "**• Cell.shape - Uniformity of Cell Shape**\n",
    "\n",
    "**• Marg.adhesion - Marginal Adhesion**\n",
    "\n",
    "**• Epith.c.size - Single Epithelial Cell Size**\n",
    "\n",
    "**• Bare.nuclei - Bare Nuclei**\n",
    "\n",
    "**• Bl.cromatin - Bland Chromatin**\n",
    "\n",
    "**• Normal.nucleoli - Normal Nucleoli**\n",
    "\n",
    "**• Mitoses - Mitoses**\n",
    "\n",
    "\n",
    "\n",
    "\n",
    "\n",
    "The output (target/dependent) variable is the variable we are trying to predict, it is the class column in our dataset.\n",
    "\n",
    "\n",
    " **• Class - Class**"
   ]
  },
  {
   "cell_type": "code",
   "execution_count": 8,
   "id": "0f04e962",
   "metadata": {},
   "outputs": [],
   "source": [
    "#Extracting independent variables\n",
    "X=data.loc[:, data.columns != 'Class']"
   ]
  },
  {
   "cell_type": "code",
   "execution_count": 9,
   "id": "73fe8f1e",
   "metadata": {},
   "outputs": [
    {
     "data": {
      "text/html": [
       "<div>\n",
       "<style scoped>\n",
       "    .dataframe tbody tr th:only-of-type {\n",
       "        vertical-align: middle;\n",
       "    }\n",
       "\n",
       "    .dataframe tbody tr th {\n",
       "        vertical-align: top;\n",
       "    }\n",
       "\n",
       "    .dataframe thead th {\n",
       "        text-align: right;\n",
       "    }\n",
       "</style>\n",
       "<table border=\"1\" class=\"dataframe\">\n",
       "  <thead>\n",
       "    <tr style=\"text-align: right;\">\n",
       "      <th></th>\n",
       "      <th>Cl.thickness</th>\n",
       "      <th>Cell.size</th>\n",
       "      <th>Cell.shape</th>\n",
       "      <th>Marg.adhesion</th>\n",
       "      <th>Epith.c.size</th>\n",
       "      <th>Bare.nuclei</th>\n",
       "      <th>Bl.cromatin</th>\n",
       "      <th>Normal.nucleoli</th>\n",
       "      <th>Mitoses</th>\n",
       "    </tr>\n",
       "  </thead>\n",
       "  <tbody>\n",
       "    <tr>\n",
       "      <th>0</th>\n",
       "      <td>4.454847</td>\n",
       "      <td>2.386095</td>\n",
       "      <td>2.295170</td>\n",
       "      <td>2.530536</td>\n",
       "      <td>2.723036</td>\n",
       "      <td>2.393815</td>\n",
       "      <td>3.582104</td>\n",
       "      <td>2.591299</td>\n",
       "      <td>3.199268</td>\n",
       "    </tr>\n",
       "    <tr>\n",
       "      <th>1</th>\n",
       "      <td>4.454847</td>\n",
       "      <td>4.637212</td>\n",
       "      <td>4.603958</td>\n",
       "      <td>5.742196</td>\n",
       "      <td>7.896027</td>\n",
       "      <td>8.074609</td>\n",
       "      <td>3.582104</td>\n",
       "      <td>3.344739</td>\n",
       "      <td>3.199268</td>\n",
       "    </tr>\n",
       "    <tr>\n",
       "      <th>2</th>\n",
       "      <td>2.824082</td>\n",
       "      <td>2.386095</td>\n",
       "      <td>2.295170</td>\n",
       "      <td>2.530536</td>\n",
       "      <td>2.723036</td>\n",
       "      <td>3.025014</td>\n",
       "      <td>3.582104</td>\n",
       "      <td>2.591299</td>\n",
       "      <td>3.199268</td>\n",
       "    </tr>\n",
       "    <tr>\n",
       "      <th>3</th>\n",
       "      <td>5.270230</td>\n",
       "      <td>7.638702</td>\n",
       "      <td>7.682342</td>\n",
       "      <td>2.530536</td>\n",
       "      <td>3.757634</td>\n",
       "      <td>4.287413</td>\n",
       "      <td>3.582104</td>\n",
       "      <td>7.111938</td>\n",
       "      <td>3.199268</td>\n",
       "    </tr>\n",
       "    <tr>\n",
       "      <th>4</th>\n",
       "      <td>3.639465</td>\n",
       "      <td>2.386095</td>\n",
       "      <td>2.295170</td>\n",
       "      <td>4.136366</td>\n",
       "      <td>2.723036</td>\n",
       "      <td>2.393815</td>\n",
       "      <td>3.582104</td>\n",
       "      <td>2.591299</td>\n",
       "      <td>3.199268</td>\n",
       "    </tr>\n",
       "    <tr>\n",
       "      <th>...</th>\n",
       "      <td>...</td>\n",
       "      <td>...</td>\n",
       "      <td>...</td>\n",
       "      <td>...</td>\n",
       "      <td>...</td>\n",
       "      <td>...</td>\n",
       "      <td>...</td>\n",
       "      <td>...</td>\n",
       "      <td>...</td>\n",
       "    </tr>\n",
       "    <tr>\n",
       "      <th>677</th>\n",
       "      <td>2.824082</td>\n",
       "      <td>2.386095</td>\n",
       "      <td>2.295170</td>\n",
       "      <td>2.530536</td>\n",
       "      <td>2.723036</td>\n",
       "      <td>2.393815</td>\n",
       "      <td>2.643212</td>\n",
       "      <td>2.591299</td>\n",
       "      <td>4.526695</td>\n",
       "    </tr>\n",
       "    <tr>\n",
       "      <th>678</th>\n",
       "      <td>2.824082</td>\n",
       "      <td>2.386095</td>\n",
       "      <td>2.295170</td>\n",
       "      <td>2.530536</td>\n",
       "      <td>3.757634</td>\n",
       "      <td>3.025014</td>\n",
       "      <td>1.704320</td>\n",
       "      <td>2.591299</td>\n",
       "      <td>3.199268</td>\n",
       "    </tr>\n",
       "    <tr>\n",
       "      <th>680</th>\n",
       "      <td>4.454847</td>\n",
       "      <td>9.139446</td>\n",
       "      <td>9.221535</td>\n",
       "      <td>4.136366</td>\n",
       "      <td>7.896027</td>\n",
       "      <td>3.656214</td>\n",
       "      <td>8.276563</td>\n",
       "      <td>9.372257</td>\n",
       "      <td>4.526695</td>\n",
       "    </tr>\n",
       "    <tr>\n",
       "      <th>681</th>\n",
       "      <td>3.639465</td>\n",
       "      <td>7.638702</td>\n",
       "      <td>6.143150</td>\n",
       "      <td>4.939281</td>\n",
       "      <td>3.757634</td>\n",
       "      <td>4.287413</td>\n",
       "      <td>10.154346</td>\n",
       "      <td>6.358498</td>\n",
       "      <td>3.199268</td>\n",
       "    </tr>\n",
       "    <tr>\n",
       "      <th>682</th>\n",
       "      <td>3.639465</td>\n",
       "      <td>7.638702</td>\n",
       "      <td>7.682342</td>\n",
       "      <td>5.742196</td>\n",
       "      <td>4.792233</td>\n",
       "      <td>4.918612</td>\n",
       "      <td>10.154346</td>\n",
       "      <td>4.851618</td>\n",
       "      <td>3.199268</td>\n",
       "    </tr>\n",
       "  </tbody>\n",
       "</table>\n",
       "<p>449 rows × 9 columns</p>\n",
       "</div>"
      ],
      "text/plain": [
       "     Cl.thickness  Cell.size  Cell.shape  Marg.adhesion  Epith.c.size  \\\n",
       "0        4.454847   2.386095    2.295170       2.530536      2.723036   \n",
       "1        4.454847   4.637212    4.603958       5.742196      7.896027   \n",
       "2        2.824082   2.386095    2.295170       2.530536      2.723036   \n",
       "3        5.270230   7.638702    7.682342       2.530536      3.757634   \n",
       "4        3.639465   2.386095    2.295170       4.136366      2.723036   \n",
       "..            ...        ...         ...            ...           ...   \n",
       "677      2.824082   2.386095    2.295170       2.530536      2.723036   \n",
       "678      2.824082   2.386095    2.295170       2.530536      3.757634   \n",
       "680      4.454847   9.139446    9.221535       4.136366      7.896027   \n",
       "681      3.639465   7.638702    6.143150       4.939281      3.757634   \n",
       "682      3.639465   7.638702    7.682342       5.742196      4.792233   \n",
       "\n",
       "     Bare.nuclei  Bl.cromatin  Normal.nucleoli   Mitoses  \n",
       "0       2.393815     3.582104         2.591299  3.199268  \n",
       "1       8.074609     3.582104         3.344739  3.199268  \n",
       "2       3.025014     3.582104         2.591299  3.199268  \n",
       "3       4.287413     3.582104         7.111938  3.199268  \n",
       "4       2.393815     3.582104         2.591299  3.199268  \n",
       "..           ...          ...              ...       ...  \n",
       "677     2.393815     2.643212         2.591299  4.526695  \n",
       "678     3.025014     1.704320         2.591299  3.199268  \n",
       "680     3.656214     8.276563         9.372257  4.526695  \n",
       "681     4.287413    10.154346         6.358498  3.199268  \n",
       "682     4.918612    10.154346         4.851618  3.199268  \n",
       "\n",
       "[449 rows x 9 columns]"
      ]
     },
     "execution_count": 9,
     "metadata": {},
     "output_type": "execute_result"
    }
   ],
   "source": [
    "X"
   ]
  },
  {
   "cell_type": "code",
   "execution_count": 10,
   "id": "9ae08b47",
   "metadata": {},
   "outputs": [],
   "source": [
    "y=data[[\"Class\"]]"
   ]
  },
  {
   "cell_type": "code",
   "execution_count": 11,
   "id": "e644bad4",
   "metadata": {},
   "outputs": [
    {
     "data": {
      "text/html": [
       "<div>\n",
       "<style scoped>\n",
       "    .dataframe tbody tr th:only-of-type {\n",
       "        vertical-align: middle;\n",
       "    }\n",
       "\n",
       "    .dataframe tbody tr th {\n",
       "        vertical-align: top;\n",
       "    }\n",
       "\n",
       "    .dataframe thead th {\n",
       "        text-align: right;\n",
       "    }\n",
       "</style>\n",
       "<table border=\"1\" class=\"dataframe\">\n",
       "  <thead>\n",
       "    <tr style=\"text-align: right;\">\n",
       "      <th></th>\n",
       "      <th>Class</th>\n",
       "    </tr>\n",
       "  </thead>\n",
       "  <tbody>\n",
       "    <tr>\n",
       "      <th>0</th>\n",
       "      <td>0</td>\n",
       "    </tr>\n",
       "    <tr>\n",
       "      <th>1</th>\n",
       "      <td>0</td>\n",
       "    </tr>\n",
       "    <tr>\n",
       "      <th>2</th>\n",
       "      <td>0</td>\n",
       "    </tr>\n",
       "    <tr>\n",
       "      <th>3</th>\n",
       "      <td>0</td>\n",
       "    </tr>\n",
       "    <tr>\n",
       "      <th>4</th>\n",
       "      <td>0</td>\n",
       "    </tr>\n",
       "    <tr>\n",
       "      <th>...</th>\n",
       "      <td>...</td>\n",
       "    </tr>\n",
       "    <tr>\n",
       "      <th>677</th>\n",
       "      <td>0</td>\n",
       "    </tr>\n",
       "    <tr>\n",
       "      <th>678</th>\n",
       "      <td>0</td>\n",
       "    </tr>\n",
       "    <tr>\n",
       "      <th>680</th>\n",
       "      <td>1</td>\n",
       "    </tr>\n",
       "    <tr>\n",
       "      <th>681</th>\n",
       "      <td>1</td>\n",
       "    </tr>\n",
       "    <tr>\n",
       "      <th>682</th>\n",
       "      <td>1</td>\n",
       "    </tr>\n",
       "  </tbody>\n",
       "</table>\n",
       "<p>449 rows × 1 columns</p>\n",
       "</div>"
      ],
      "text/plain": [
       "     Class\n",
       "0        0\n",
       "1        0\n",
       "2        0\n",
       "3        0\n",
       "4        0\n",
       "..     ...\n",
       "677      0\n",
       "678      0\n",
       "680      1\n",
       "681      1\n",
       "682      1\n",
       "\n",
       "[449 rows x 1 columns]"
      ]
     },
     "execution_count": 11,
     "metadata": {},
     "output_type": "execute_result"
    }
   ],
   "source": [
    "y"
   ]
  },
  {
   "cell_type": "markdown",
   "id": "4f09a3eb",
   "metadata": {},
   "source": [
    "### Feature Scaling\n",
    "\n",
    "Feauture scaling is a normalisation technique that is used to ensure that all the values in the dataset lie within similar range. This is done to prevent bias during training as where we have a large range i.e very high values in some variables and very small ones in other variables, our model tends to assume that the larger values are more significant than the smaller ones, this can cause unwanted preference. There are different scaling techniques, but the one we employ here is MinMax Scaling which ensures that the values in our inputs lie between 0 and 1. This is done by making the minimum value in each variable 0 and the maximum value 1, then all other values are made to lie between 0 and 1. \n",
    "\n",
    "In cell 16, we specify a test size of 20%, meaning 20% of our data is reserved for testing and not used during training, meaning 80% is used for the training phase"
   ]
  },
  {
   "cell_type": "code",
   "execution_count": 13,
   "id": "080a1456",
   "metadata": {},
   "outputs": [],
   "source": [
    "scaler_x=MinMaxScaler()\n",
    "X_scaled=scaler_x.fit(X)\n",
    "X_scaled=scaler_x.transform(X)"
   ]
  },
  {
   "cell_type": "code",
   "execution_count": 14,
   "id": "9cec487e",
   "metadata": {},
   "outputs": [
    {
     "data": {
      "text/plain": [
       "array([[0.44444444, 0.        , 0.        , ..., 0.22222222, 0.        ,\n",
       "        0.        ],\n",
       "       [0.44444444, 0.33333333, 0.33333333, ..., 0.22222222, 0.11111111,\n",
       "        0.        ],\n",
       "       [0.22222222, 0.        , 0.        , ..., 0.22222222, 0.        ,\n",
       "        0.        ],\n",
       "       ...,\n",
       "       [0.44444444, 1.        , 1.        , ..., 0.77777778, 1.        ,\n",
       "        0.11111111],\n",
       "       [0.33333333, 0.77777778, 0.55555556, ..., 1.        , 0.55555556,\n",
       "        0.        ],\n",
       "       [0.33333333, 0.77777778, 0.77777778, ..., 1.        , 0.33333333,\n",
       "        0.        ]])"
      ]
     },
     "execution_count": 14,
     "metadata": {},
     "output_type": "execute_result"
    }
   ],
   "source": [
    "X_scaled"
   ]
  },
  {
   "cell_type": "code",
   "execution_count": 16,
   "id": "b1440875",
   "metadata": {},
   "outputs": [],
   "source": [
    "X_train, X_test, y_train, y_test = train_test_split(X_scaled,y, test_size=0.2, random_state=0)"
   ]
  },
  {
   "cell_type": "markdown",
   "id": "ec4615af",
   "metadata": {},
   "source": [
    "### Model Training- Logistic Regression \n",
    "\n",
    "Logistics Regression which a predictive analysis that model the probability of an event occurring based on a given dataset. It is also a statistical method for predicting binary classes. The logistic regression is used here to model cancer detection problems\n",
    "\n",
    "\n",
    "The inputs to the model are those outlined in the data splitting stage, while the output is the class variable as defined in the splitting stage above. \n",
    "\n",
    "In cell 18, we train the model and make predictions using the test data in cell 19. "
   ]
  },
  {
   "cell_type": "code",
   "execution_count": 18,
   "id": "ca01718b",
   "metadata": {},
   "outputs": [
    {
     "data": {
      "text/plain": [
       "LogisticRegression()"
      ]
     },
     "execution_count": 18,
     "metadata": {},
     "output_type": "execute_result"
    }
   ],
   "source": [
    "regressor=LogisticRegression()\n",
    "regressor.fit(X_train,y_train.values.ravel())"
   ]
  },
  {
   "cell_type": "code",
   "execution_count": 19,
   "id": "e61b457b",
   "metadata": {},
   "outputs": [],
   "source": [
    "y_pred=regressor.predict(X_test)"
   ]
  },
  {
   "cell_type": "markdown",
   "id": "ae730099",
   "metadata": {},
   "source": [
    "### Model Evaluation for Logistic Regression \n",
    "\n",
    "In this stage of the project, we evaluate the model performance using accuracy score, confusion_matrix and classification report. "
   ]
  },
  {
   "cell_type": "code",
   "execution_count": 20,
   "id": "24ee543f",
   "metadata": {},
   "outputs": [
    {
     "name": "stdout",
     "output_type": "stream",
     "text": [
      "[[33  2]\n",
      " [ 4 51]]\n",
      "0.9333333333333333\n",
      "              precision    recall  f1-score   support\n",
      "\n",
      "           0       0.89      0.94      0.92        35\n",
      "           1       0.96      0.93      0.94        55\n",
      "\n",
      "    accuracy                           0.93        90\n",
      "   macro avg       0.93      0.94      0.93        90\n",
      "weighted avg       0.93      0.93      0.93        90\n",
      "\n"
     ]
    }
   ],
   "source": [
    "#Evaluation matrix\n",
    "print(confusion_matrix(y_test,y_pred))\n",
    "print(accuracy_score(y_test,y_pred))\n",
    "print(classification_report(y_test,y_pred))"
   ]
  },
  {
   "cell_type": "code",
   "execution_count": 22,
   "id": "6c848058",
   "metadata": {},
   "outputs": [
    {
     "name": "stderr",
     "output_type": "stream",
     "text": [
      "C:\\Users\\ebuno\\anaconda3\\lib\\site-packages\\sklearn\\utils\\deprecation.py:87: FutureWarning: Function plot_confusion_matrix is deprecated; Function `plot_confusion_matrix` is deprecated in 1.0 and will be removed in 1.2. Use one of the class methods: ConfusionMatrixDisplay.from_predictions or ConfusionMatrixDisplay.from_estimator.\n",
      "  warnings.warn(msg, category=FutureWarning)\n"
     ]
    },
    {
     "data": {
      "image/png": "[encoded data removed]",
      "text/plain": [
       "<Figure size 432x288 with 2 Axes>"
      ]
     },
     "metadata": {
      "needs_background": "light"
     },
     "output_type": "display_data"
    }
   ],
   "source": [
    "plot_confusion_matrix(regressor, X_test, y_test, values_format = '',cmap=\"YlGnBu\")\n",
    "plt.title('Confusion matrix', y=1.1);"
   ]
  },
  {
   "cell_type": "code",
   "execution_count": 24,
   "id": "5533be3b",
   "metadata": {},
   "outputs": [
    {
     "data": {
      "image/png": "[encoded data removed]",
      "text/plain": [
       "<Figure size 432x288 with 1 Axes>"
      ]
     },
     "metadata": {
      "needs_background": "light"
     },
     "output_type": "display_data"
    }
   ],
   "source": [
    "y_pred_proba = regressor.predict_proba(X_test)[::,1]\n",
    "\n",
    "fpr, tpr, _ = metrics.roc_curve(y_test,  y_pred_proba)\n",
    "auc = metrics.roc_auc_score(y_test, y_pred_proba)\n",
    "plt.plot(fpr,tpr,label=\"data 1, auc=\"+str(auc))\n",
    "plt.legend(loc=4)\n",
    "plt.show()"
   ]
  },
  {
   "cell_type": "markdown",
   "id": "96a7fdb2",
   "metadata": {},
   "source": [
    "### Model Training - Naive Bayes\n",
    "\n",
    "The Naïve Bayes which an application of Bayes rules used in performing the classification of the data point. It is also used here to model cancer detection problems \n",
    " \n",
    "For the model, the inputs is the Cl.thickness, Cell. size, Cell.shape, Marg.adhesion, Epith.c.size, Bare.nuclei, Bl.cromatin, Normal.nucleoli, Mitoses. They are called the independent variables While the target which is the Class is the outputs and is called the dependent variable.\n",
    "\n",
    "In cell 26, we train a Naive Bayes model and make predictions using the test data in cell 27. \n",
    "   "
   ]
  },
  {
   "cell_type": "code",
   "execution_count": 26,
   "id": "b9e64ce7",
   "metadata": {},
   "outputs": [
    {
     "data": {
      "text/plain": [
       "GaussianNB()"
      ]
     },
     "execution_count": 26,
     "metadata": {},
     "output_type": "execute_result"
    }
   ],
   "source": [
    "naivebayes=GaussianNB()\n",
    "naivebayes.fit(X_train,y_train.values.ravel())"
   ]
  },
  {
   "cell_type": "code",
   "execution_count": 27,
   "id": "fdceaf68",
   "metadata": {},
   "outputs": [],
   "source": [
    "y_pred=naivebayes.predict(X_test)"
   ]
  },
  {
   "cell_type": "markdown",
   "id": "3d504d6c",
   "metadata": {},
   "source": [
    "### Model Evaluation - Naive Bayes \n",
    "\n",
    "In this stage of the project, we evaluate the model performance of our Naive Bayes model using accuracy score, confusion_matrix and classification report. "
   ]
  },
  {
   "cell_type": "code",
   "execution_count": 28,
   "id": "b80cd70e",
   "metadata": {},
   "outputs": [
    {
     "name": "stdout",
     "output_type": "stream",
     "text": [
      "[[30  5]\n",
      " [ 3 52]]\n",
      "0.9111111111111111\n",
      "              precision    recall  f1-score   support\n",
      "\n",
      "           0       0.91      0.86      0.88        35\n",
      "           1       0.91      0.95      0.93        55\n",
      "\n",
      "    accuracy                           0.91        90\n",
      "   macro avg       0.91      0.90      0.91        90\n",
      "weighted avg       0.91      0.91      0.91        90\n",
      "\n"
     ]
    }
   ],
   "source": [
    "#Evaluation matrix\n",
    "print(confusion_matrix(y_test,y_pred))\n",
    "print(accuracy_score(y_test,y_pred))\n",
    "print(classification_report(y_test,y_pred))"
   ]
  },
  {
   "cell_type": "code",
   "execution_count": 29,
   "id": "856d437b",
   "metadata": {},
   "outputs": [
    {
     "name": "stderr",
     "output_type": "stream",
     "text": [
      "C:\\Users\\ebuno\\anaconda3\\lib\\site-packages\\sklearn\\utils\\deprecation.py:87: FutureWarning: Function plot_confusion_matrix is deprecated; Function `plot_confusion_matrix` is deprecated in 1.0 and will be removed in 1.2. Use one of the class methods: ConfusionMatrixDisplay.from_predictions or ConfusionMatrixDisplay.from_estimator.\n",
      "  warnings.warn(msg, category=FutureWarning)\n"
     ]
    },
    {
     "data": {
      "image/png": "[encoded data removed]",
      "text/plain": [
       "<Figure size 432x288 with 2 Axes>"
      ]
     },
     "metadata": {
      "needs_background": "light"
     },
     "output_type": "display_data"
    }
   ],
   "source": [
    "plot_confusion_matrix(naivebayes, X_test, y_test, values_format = '',cmap=\"YlGnBu\")\n",
    "plt.title('Confusion matrix', y=1.1);"
   ]
  },
  {
   "cell_type": "code",
   "execution_count": 30,
   "id": "8c4b469c",
   "metadata": {},
   "outputs": [
    {
     "data": {
      "image/png": "[encoded data removed]",
      "text/plain": [
       "<Figure size 432x288 with 1 Axes>"
      ]
     },
     "metadata": {
      "needs_background": "light"
     },
     "output_type": "display_data"
    }
   ],
   "source": [
    "y_pred_proba = naivebayes.predict_proba(X_test)[::,1]\n",
    "\n",
    "fpr, tpr, _ = metrics.roc_curve(y_test,  y_pred_proba)\n",
    "auc = metrics.roc_auc_score(y_test, y_pred_proba)\n",
    "plt.plot(fpr,tpr,label=\"data 1, auc=\"+str(auc))\n",
    "plt.legend(loc=4)\n",
    "plt.show()"
   ]
  },
  {
   "cell_type": "markdown",
   "id": "3c559cbc",
   "metadata": {},
   "source": [
    "### Comparing model performance. "
   ]
  },
  {
   "cell_type": "markdown",
   "id": "38196acb",
   "metadata": {},
   "source": [
    "In Comparing the two models, we evaluated the matrix and the predicted values using\n",
    "\n",
    "### 1. Confusion Matrix\n",
    "\n",
    "The confusion matrix contains vital informaation about our model performance. It gives us four important metrics as defined below:\n",
    "\n",
    "**The True Positive (TP)**: is the predicted value which matches the actual value, the actual value was positive and predicted a positive value. \n",
    "\n",
    "**The False Positive (FP)**: is the predicted false value in which the actual value was negative but predicted a positive value. It is also known as a type 1 error. \n",
    "\n",
    "**The False Negative (FN)**:  is the predicted false value in which the actual value was positive but predicted a negative value. It is also known as the type 2 error and \n",
    "\n",
    "**The True Negative (TN)**:  is the predicted value that matches the actual value but the actual value was negative and predicted a negative value.\n",
    "\n",
    "This confusion matrix visualization shows us how the algorithm performed. \n",
    "\n",
    "**For Logistic regression, the 33 is the True Postives, 2 is the False Positive, 4 is the False Negative and 51 is the Tue Negetive.**\n",
    "\n",
    "**For the Naive Bayes,30 is the True Postives, 5 is the False Positive,3 is the False Negetive and the 52 is the Tue Negetive.**\n",
    "\n",
    "\n",
    "\n",
    "\n",
    "## ii.Accuracy score \n",
    "\n",
    "The accuracy score which is the metric given as a fraction of the correct predictions generated by the model.For Logistic regression we have **0.93** and for the Naive Bayes we have **0.91**. \n",
    "\n",
    "**iii Classification report**\n",
    "This contains import metrics such as \n",
    "\n",
    "**Precision**: This is measure of the correctly classified postive values divided by the total number of positive observations. The precision for the logistic regression for measuring the precision for predicting 0 sublass is **0.89** and for the 1 sub class is **0.96**. The Naive bayes has a precision of **0.91** for prediciting both the 0 and 1 sublcass. \n",
    "\n",
    "**Recall**: This is the measure of the true positives, over the total actual positives in the entire dataset. The recall is also called sensitivity. The sensitivity of the model for the 0 and 1 sublass for Logistic regression is **0.94** and **0.93**, while for the Naive bayes is **0.86** and **0.95**. \n",
    "\n",
    "**F1 score**: This is the harmonic mean of precision and recall. The F1 score for the 0 and 1 subclass for logistic regression is **0.92** and **0.94**, while for the Naive bayes is **0.88** and **0.93** repesctively. \n",
    "\n",
    "\n",
    "\n",
    "## iii. Receiver Operating Curve (ROC) using the Area Under Curve (AUC) Scores:\n",
    "\n",
    "The ROC curve here is used  to measure the performance of the classifier model based on the rate or correct and incorrect classification.  The Area under the curve(AUC) is used to visualize the performance of the multi-class. From the graph, the AUC score curve for both Logistic regression and Naive Bayes is closer to the top left corner this is because it is closer to 1. The auc score for the logisitic regression is **0.98** while that of the Naive bayes is **0.96**.\n",
    " \n",
    "\n",
    "\n",
    "## Conclusion and discusion \n",
    "\n",
    "Based on the metrics above, we can deduce that the Logistic regression performs better in classifying the cancer prediction as either malignant or benign. Unfortunately the data has been encoded and we are not able to determine what subclass 0 and 1 represent in terms of the severity/type of the cancer. I would suggest that the logistic be used instead of the Naive bayes as it has higher accuracy, overall precision, recall, f1 score across both subclassess. \n",
    "\n",
    "\n",
    "## Recommendation \n",
    "\n",
    "I would recommend that we employ certain techniques to improve the performance of both models. Since we are using them for a very sensitive use case, it would be tragic if a person is diagnosed as benign when they are malignant, and although not as bad, the anxiety and trauma caused by wrong diagnosis of a patient as malignant when they are actually benign cannot be overemphasised. \n",
    "\n",
    "We can perform hyperparameter tunning, better feature selection and a more extensive exploratory data analysis to seek improvement in our model performance. We can also use other models e.g Random forest to see if we can obtain better performance."
   ]
  }
 ],
 "metadata": {
  "kernelspec": {
   "display_name": "Python 3 (ipykernel)",
   "language": "python",
   "name": "python3"
  },
  "language_info": {
   "codemirror_mode": {
    "name": "ipython",
    "version": 3
   },
   "file_extension": ".py",
   "mimetype": "text/x-python",
   "name": "python",
   "nbconvert_exporter": "python",
   "pygments_lexer": "ipython3",
   "version": "3.9.13"
  }
 },
 "nbformat": 4,
 "nbformat_minor": 5
}
