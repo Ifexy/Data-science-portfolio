{
 "cells": [
  {
   "cell_type": "code",
   "execution_count": 1,
   "id": "356fc793",
   "metadata": {},
   "outputs": [],
   "source": [
    "import warnings\n",
    "import numpy as np \n",
    "import pandas as pd \n",
    "import seaborn as sns\n",
    "from math import sqrt\n",
    "from sklearn import metrics\n",
    "import matplotlib.pyplot as plt \n",
    "warnings.filterwarnings('ignore')\n",
    "from sklearn.metrics import r2_score\n",
    "from sklearn.preprocessing import StandardScaler\n",
    "from sklearn.linear_model import LinearRegression\n",
    "from sklearn.model_selection import train_test_split"
   ]
  },
  {
   "cell_type": "code",
   "execution_count": 2,
   "id": "681b230c",
   "metadata": {},
   "outputs": [],
   "source": [
    "data=pd.read_csv('C:\\\\Users\\\\c2074370\\\\1-projects\\\\Phys_Descrip.txt')"
   ]
  },
  {
   "cell_type": "code",
   "execution_count": 3,
   "id": "f35e2202",
   "metadata": {},
   "outputs": [],
   "source": [
    "data.drop(['Config','Ecoh','Eb','Eadh'], axis=1, inplace=True)"
   ]
  },
  {
   "cell_type": "code",
   "execution_count": 4,
   "id": "f2cf932b",
   "metadata": {},
   "outputs": [
    {
     "data": {
      "text/html": [
       "<div>\n",
       "<style scoped>\n",
       "    .dataframe tbody tr th:only-of-type {\n",
       "        vertical-align: middle;\n",
       "    }\n",
       "\n",
       "    .dataframe tbody tr th {\n",
       "        vertical-align: top;\n",
       "    }\n",
       "\n",
       "    .dataframe thead th {\n",
       "        text-align: right;\n",
       "    }\n",
       "</style>\n",
       "<table border=\"1\" class=\"dataframe\">\n",
       "  <thead>\n",
       "    <tr style=\"text-align: right;\">\n",
       "      <th></th>\n",
       "      <th>N</th>\n",
       "      <th>infa_C_Au</th>\n",
       "      <th>infa_S_Mg</th>\n",
       "      <th>infa_S_O</th>\n",
       "      <th>cc</th>\n",
       "      <th>cs_Mg</th>\n",
       "      <th>cs_O</th>\n",
       "      <th>ave_GCN</th>\n",
       "      <th>csDist_Mg</th>\n",
       "      <th>csDist_O</th>\n",
       "      <th>Zdist</th>\n",
       "      <th>Etot</th>\n",
       "    </tr>\n",
       "  </thead>\n",
       "  <tbody>\n",
       "    <tr>\n",
       "      <th>0</th>\n",
       "      <td>-1.120510</td>\n",
       "      <td>-0.490658</td>\n",
       "      <td>-0.604262</td>\n",
       "      <td>-0.428554</td>\n",
       "      <td>-2.166638</td>\n",
       "      <td>-0.525935</td>\n",
       "      <td>-0.544286</td>\n",
       "      <td>-1.810368</td>\n",
       "      <td>-0.800705</td>\n",
       "      <td>-1.480265</td>\n",
       "      <td>-0.539189</td>\n",
       "      <td>0.986472</td>\n",
       "    </tr>\n",
       "    <tr>\n",
       "      <th>1</th>\n",
       "      <td>-1.120510</td>\n",
       "      <td>-0.490658</td>\n",
       "      <td>-0.604262</td>\n",
       "      <td>-0.428554</td>\n",
       "      <td>-2.166638</td>\n",
       "      <td>-0.525935</td>\n",
       "      <td>-0.544286</td>\n",
       "      <td>-1.296034</td>\n",
       "      <td>-0.430681</td>\n",
       "      <td>-0.992222</td>\n",
       "      <td>-0.539189</td>\n",
       "      <td>0.815125</td>\n",
       "    </tr>\n",
       "    <tr>\n",
       "      <th>2</th>\n",
       "      <td>-1.120510</td>\n",
       "      <td>-0.490658</td>\n",
       "      <td>-0.604262</td>\n",
       "      <td>-0.428554</td>\n",
       "      <td>-2.166638</td>\n",
       "      <td>-0.525935</td>\n",
       "      <td>-0.544286</td>\n",
       "      <td>-0.780585</td>\n",
       "      <td>-0.028042</td>\n",
       "      <td>-0.503121</td>\n",
       "      <td>-0.539189</td>\n",
       "      <td>0.807898</td>\n",
       "    </tr>\n",
       "    <tr>\n",
       "      <th>3</th>\n",
       "      <td>-1.120510</td>\n",
       "      <td>-0.824974</td>\n",
       "      <td>-0.955142</td>\n",
       "      <td>-0.428554</td>\n",
       "      <td>-2.166638</td>\n",
       "      <td>-0.705678</td>\n",
       "      <td>-0.544286</td>\n",
       "      <td>-0.266251</td>\n",
       "      <td>0.399340</td>\n",
       "      <td>-0.015079</td>\n",
       "      <td>-1.178474</td>\n",
       "      <td>0.823918</td>\n",
       "    </tr>\n",
       "    <tr>\n",
       "      <th>4</th>\n",
       "      <td>-1.120510</td>\n",
       "      <td>-0.824974</td>\n",
       "      <td>-0.955142</td>\n",
       "      <td>-0.428554</td>\n",
       "      <td>-2.166638</td>\n",
       "      <td>-0.705678</td>\n",
       "      <td>-0.544286</td>\n",
       "      <td>0.248083</td>\n",
       "      <td>0.843593</td>\n",
       "      <td>0.472964</td>\n",
       "      <td>-1.178474</td>\n",
       "      <td>0.842551</td>\n",
       "    </tr>\n",
       "    <tr>\n",
       "      <th>...</th>\n",
       "      <td>...</td>\n",
       "      <td>...</td>\n",
       "      <td>...</td>\n",
       "      <td>...</td>\n",
       "      <td>...</td>\n",
       "      <td>...</td>\n",
       "      <td>...</td>\n",
       "      <td>...</td>\n",
       "      <td>...</td>\n",
       "      <td>...</td>\n",
       "      <td>...</td>\n",
       "      <td>...</td>\n",
       "    </tr>\n",
       "    <tr>\n",
       "      <th>1834</th>\n",
       "      <td>4.853802</td>\n",
       "      <td>3.186821</td>\n",
       "      <td>1.851900</td>\n",
       "      <td>0.840546</td>\n",
       "      <td>3.378153</td>\n",
       "      <td>2.170204</td>\n",
       "      <td>1.276161</td>\n",
       "      <td>0.698822</td>\n",
       "      <td>0.676014</td>\n",
       "      <td>0.683637</td>\n",
       "      <td>2.397580</td>\n",
       "      <td>-5.449765</td>\n",
       "    </tr>\n",
       "    <tr>\n",
       "      <th>1835</th>\n",
       "      <td>4.853802</td>\n",
       "      <td>-0.824974</td>\n",
       "      <td>-0.955142</td>\n",
       "      <td>-0.428554</td>\n",
       "      <td>3.378153</td>\n",
       "      <td>-0.705678</td>\n",
       "      <td>-0.544286</td>\n",
       "      <td>1.679515</td>\n",
       "      <td>1.663493</td>\n",
       "      <td>1.660781</td>\n",
       "      <td>1.271298</td>\n",
       "      <td>-3.855746</td>\n",
       "    </tr>\n",
       "    <tr>\n",
       "      <th>1836</th>\n",
       "      <td>4.853802</td>\n",
       "      <td>3.186821</td>\n",
       "      <td>1.851900</td>\n",
       "      <td>4.647849</td>\n",
       "      <td>3.378153</td>\n",
       "      <td>5.225828</td>\n",
       "      <td>2.489793</td>\n",
       "      <td>0.232463</td>\n",
       "      <td>0.195771</td>\n",
       "      <td>0.195595</td>\n",
       "      <td>3.139304</td>\n",
       "      <td>-3.417365</td>\n",
       "    </tr>\n",
       "    <tr>\n",
       "      <th>1837</th>\n",
       "      <td>4.853802</td>\n",
       "      <td>3.186821</td>\n",
       "      <td>1.851900</td>\n",
       "      <td>0.840546</td>\n",
       "      <td>3.378153</td>\n",
       "      <td>1.810719</td>\n",
       "      <td>2.489793</td>\n",
       "      <td>0.709979</td>\n",
       "      <td>0.677139</td>\n",
       "      <td>0.683637</td>\n",
       "      <td>2.528505</td>\n",
       "      <td>-5.443844</td>\n",
       "    </tr>\n",
       "    <tr>\n",
       "      <th>1838</th>\n",
       "      <td>4.853802</td>\n",
       "      <td>-0.824974</td>\n",
       "      <td>-0.955142</td>\n",
       "      <td>-0.428554</td>\n",
       "      <td>3.378153</td>\n",
       "      <td>-0.705678</td>\n",
       "      <td>-0.544286</td>\n",
       "      <td>1.689556</td>\n",
       "      <td>1.665742</td>\n",
       "      <td>1.660781</td>\n",
       "      <td>1.271298</td>\n",
       "      <td>-4.701426</td>\n",
       "    </tr>\n",
       "  </tbody>\n",
       "</table>\n",
       "<p>1839 rows × 12 columns</p>\n",
       "</div>"
      ],
      "text/plain": [
       "             N  infa_C_Au  infa_S_Mg  infa_S_O        cc     cs_Mg      cs_O  \\\n",
       "0    -1.120510  -0.490658  -0.604262 -0.428554 -2.166638 -0.525935 -0.544286   \n",
       "1    -1.120510  -0.490658  -0.604262 -0.428554 -2.166638 -0.525935 -0.544286   \n",
       "2    -1.120510  -0.490658  -0.604262 -0.428554 -2.166638 -0.525935 -0.544286   \n",
       "3    -1.120510  -0.824974  -0.955142 -0.428554 -2.166638 -0.705678 -0.544286   \n",
       "4    -1.120510  -0.824974  -0.955142 -0.428554 -2.166638 -0.705678 -0.544286   \n",
       "...        ...        ...        ...       ...       ...       ...       ...   \n",
       "1834  4.853802   3.186821   1.851900  0.840546  3.378153  2.170204  1.276161   \n",
       "1835  4.853802  -0.824974  -0.955142 -0.428554  3.378153 -0.705678 -0.544286   \n",
       "1836  4.853802   3.186821   1.851900  4.647849  3.378153  5.225828  2.489793   \n",
       "1837  4.853802   3.186821   1.851900  0.840546  3.378153  1.810719  2.489793   \n",
       "1838  4.853802  -0.824974  -0.955142 -0.428554  3.378153 -0.705678 -0.544286   \n",
       "\n",
       "       ave_GCN  csDist_Mg  csDist_O     Zdist      Etot  \n",
       "0    -1.810368  -0.800705 -1.480265 -0.539189  0.986472  \n",
       "1    -1.296034  -0.430681 -0.992222 -0.539189  0.815125  \n",
       "2    -0.780585  -0.028042 -0.503121 -0.539189  0.807898  \n",
       "3    -0.266251   0.399340 -0.015079 -1.178474  0.823918  \n",
       "4     0.248083   0.843593  0.472964 -1.178474  0.842551  \n",
       "...        ...        ...       ...       ...       ...  \n",
       "1834  0.698822   0.676014  0.683637  2.397580 -5.449765  \n",
       "1835  1.679515   1.663493  1.660781  1.271298 -3.855746  \n",
       "1836  0.232463   0.195771  0.195595  3.139304 -3.417365  \n",
       "1837  0.709979   0.677139  0.683637  2.528505 -5.443844  \n",
       "1838  1.689556   1.665742  1.660781  1.271298 -4.701426  \n",
       "\n",
       "[1839 rows x 12 columns]"
      ]
     },
     "execution_count": 4,
     "metadata": {},
     "output_type": "execute_result"
    }
   ],
   "source": [
    "\n",
    "col=list(data.columns)\n",
    "scaler=StandardScaler()\n",
    "data[col]=scaler.fit_transform(data[col],)\n",
    "data"
   ]
  },
  {
   "cell_type": "code",
   "execution_count": 5,
   "id": "35bca4a6",
   "metadata": {},
   "outputs": [],
   "source": [
    "X=data.iloc[:,:-1] ## independent features\n",
    "y=data.iloc[:,-1] ## dependent features"
   ]
  },
  {
   "cell_type": "code",
   "execution_count": 6,
   "id": "943c865c",
   "metadata": {},
   "outputs": [],
   "source": [
    "X_train, X_test, y_train, y_test = train_test_split(X, y, test_size=0.3, random_state=0)"
   ]
  },
  {
   "cell_type": "code",
   "execution_count": 7,
   "id": "ed0fe2ef",
   "metadata": {},
   "outputs": [
    {
     "data": {
      "text/plain": [
       "LinearRegression()"
      ]
     },
     "execution_count": 7,
     "metadata": {},
     "output_type": "execute_result"
    }
   ],
   "source": [
    "regressor=LinearRegression()\n",
    "regressor.fit(X_train,y_train)"
   ]
  },
  {
   "cell_type": "markdown",
   "id": "6ff17a50",
   "metadata": {},
   "source": [
    "### Model Evaluation "
   ]
  },
  {
   "cell_type": "code",
   "execution_count": 8,
   "id": "dc517745",
   "metadata": {},
   "outputs": [
    {
     "data": {
      "text/plain": [
       "array([-1.14379452e+00, -6.22810367e-02, -8.53577758e-02,  1.70993977e-01,\n",
       "        1.73929622e-01,  1.21881213e-01,  8.38840144e-02, -2.31127381e-01,\n",
       "        3.31673858e-01, -6.63131889e-02, -2.56385585e-04])"
      ]
     },
     "execution_count": 8,
     "metadata": {},
     "output_type": "execute_result"
    }
   ],
   "source": [
    "regressor.coef_"
   ]
  },
  {
   "cell_type": "code",
   "execution_count": 9,
   "id": "b1cd43be",
   "metadata": {},
   "outputs": [
    {
     "data": {
      "text/plain": [
       "0.003399726843992746"
      ]
     },
     "execution_count": 9,
     "metadata": {},
     "output_type": "execute_result"
    }
   ],
   "source": [
    "regressor.intercept_"
   ]
  },
  {
   "cell_type": "code",
   "execution_count": 10,
   "id": "4df30ece",
   "metadata": {},
   "outputs": [
    {
     "name": "stdout",
     "output_type": "stream",
     "text": [
      "Coefficient of determination R^2 <-- on train set: 0.8797500462612352\n"
     ]
    }
   ],
   "source": [
    "print(\"Coefficient of determination R^2 <-- on train set: {}\".format(regressor.score(X_train, y_train)))"
   ]
  },
  {
   "cell_type": "code",
   "execution_count": 11,
   "id": "deca9307",
   "metadata": {},
   "outputs": [
    {
     "name": "stdout",
     "output_type": "stream",
     "text": [
      "Coefficient of determination R^2 <-- on train set: 0.8583110286281375\n"
     ]
    }
   ],
   "source": [
    "print(\"Coefficient of determination R^2 <-- on train set: {}\".format(regressor.score(X_test, y_test)))"
   ]
  },
  {
   "cell_type": "code",
   "execution_count": 12,
   "id": "305a72d7",
   "metadata": {},
   "outputs": [],
   "source": [
    "from sklearn.model_selection import cross_val_score\n",
    "score=cross_val_score(regressor,X,y,cv=5)"
   ]
  },
  {
   "cell_type": "code",
   "execution_count": 13,
   "id": "07d07877",
   "metadata": {},
   "outputs": [
    {
     "data": {
      "text/plain": [
       "-0.04860143048299766"
      ]
     },
     "execution_count": 13,
     "metadata": {},
     "output_type": "execute_result"
    }
   ],
   "source": [
    "score.mean()"
   ]
  },
  {
   "cell_type": "code",
   "execution_count": 14,
   "id": "a708fd3c",
   "metadata": {},
   "outputs": [
    {
     "data": {
      "text/html": [
       "<div>\n",
       "<style scoped>\n",
       "    .dataframe tbody tr th:only-of-type {\n",
       "        vertical-align: middle;\n",
       "    }\n",
       "\n",
       "    .dataframe tbody tr th {\n",
       "        vertical-align: top;\n",
       "    }\n",
       "\n",
       "    .dataframe thead th {\n",
       "        text-align: right;\n",
       "    }\n",
       "</style>\n",
       "<table border=\"1\" class=\"dataframe\">\n",
       "  <thead>\n",
       "    <tr style=\"text-align: right;\">\n",
       "      <th></th>\n",
       "      <th>Coefficient</th>\n",
       "    </tr>\n",
       "  </thead>\n",
       "  <tbody>\n",
       "    <tr>\n",
       "      <th>N</th>\n",
       "      <td>-1.143795</td>\n",
       "    </tr>\n",
       "    <tr>\n",
       "      <th>infa_C_Au</th>\n",
       "      <td>-0.062281</td>\n",
       "    </tr>\n",
       "    <tr>\n",
       "      <th>infa_S_Mg</th>\n",
       "      <td>-0.085358</td>\n",
       "    </tr>\n",
       "    <tr>\n",
       "      <th>infa_S_O</th>\n",
       "      <td>0.170994</td>\n",
       "    </tr>\n",
       "    <tr>\n",
       "      <th>cc</th>\n",
       "      <td>0.173930</td>\n",
       "    </tr>\n",
       "    <tr>\n",
       "      <th>cs_Mg</th>\n",
       "      <td>0.121881</td>\n",
       "    </tr>\n",
       "    <tr>\n",
       "      <th>cs_O</th>\n",
       "      <td>0.083884</td>\n",
       "    </tr>\n",
       "    <tr>\n",
       "      <th>ave_GCN</th>\n",
       "      <td>-0.231127</td>\n",
       "    </tr>\n",
       "    <tr>\n",
       "      <th>csDist_Mg</th>\n",
       "      <td>0.331674</td>\n",
       "    </tr>\n",
       "    <tr>\n",
       "      <th>csDist_O</th>\n",
       "      <td>-0.066313</td>\n",
       "    </tr>\n",
       "    <tr>\n",
       "      <th>Zdist</th>\n",
       "      <td>-0.000256</td>\n",
       "    </tr>\n",
       "  </tbody>\n",
       "</table>\n",
       "</div>"
      ],
      "text/plain": [
       "           Coefficient\n",
       "N            -1.143795\n",
       "infa_C_Au    -0.062281\n",
       "infa_S_Mg    -0.085358\n",
       "infa_S_O      0.170994\n",
       "cc            0.173930\n",
       "cs_Mg         0.121881\n",
       "cs_O          0.083884\n",
       "ave_GCN      -0.231127\n",
       "csDist_Mg     0.331674\n",
       "csDist_O     -0.066313\n",
       "Zdist        -0.000256"
      ]
     },
     "execution_count": 14,
     "metadata": {},
     "output_type": "execute_result"
    }
   ],
   "source": [
    "coeff_df = pd.DataFrame(regressor.coef_,X.columns,columns=['Coefficient'])\n",
    "coeff_df"
   ]
  },
  {
   "cell_type": "code",
   "execution_count": 15,
   "id": "a650d881",
   "metadata": {
    "scrolled": true
   },
   "outputs": [
    {
     "data": {
      "image/png": "[encoded data removed]",
      "text/plain": [
       "<Figure size 504x504 with 1 Axes>"
      ]
     },
     "metadata": {
      "needs_background": "light"
     },
     "output_type": "display_data"
    }
   ],
   "source": [
    "prediction_test=regressor.predict(X_test)\n",
    "prediction_train=regressor.predict(X_train)\n",
    "\n",
    "plt.figure(figsize=(7,7))\n",
    "plt.scatter(y_train,prediction_train, marker='o', color='#f97306', label='train' )\n",
    "plt.scatter(y_test,prediction_test, marker='+', color='#3f9b0b', label='test' )\n",
    "plt.legend(loc='upper left')\n",
    "plt.plot(y_train,y_train, color='#00035b')\n",
    "plt.xlabel('True')\n",
    "plt.ylabel('Predicted')\n",
    "plt.show()"
   ]
  },
  {
   "cell_type": "code",
   "execution_count": 16,
   "id": "5ef84ffa",
   "metadata": {
    "scrolled": true
   },
   "outputs": [
    {
     "data": {
      "image/png": "[encoded data removed]",
      "text/plain": [
       "<Figure size 432x288 with 1 Axes>"
      ]
     },
     "metadata": {
      "needs_background": "light"
     },
     "output_type": "display_data"
    }
   ],
   "source": [
    "sns.distplot(y_test-prediction_test);"
   ]
  },
  {
   "cell_type": "code",
   "execution_count": 17,
   "id": "6ac69881",
   "metadata": {
    "scrolled": true
   },
   "outputs": [
    {
     "name": "stdout",
     "output_type": "stream",
     "text": [
      "MAE: 0.18\n",
      "MSE: 0.1\n",
      "RMSE:0.31\n",
      "R_squared:0.86\n"
     ]
    }
   ],
   "source": [
    "print('MAE:', str(round(metrics.mean_absolute_error(y_test, prediction_test),2)))\n",
    "print('MSE:', str(round(metrics.mean_squared_error(y_test, prediction_test),2)))\n",
    "print('RMSE:' + str(round(sqrt(metrics.mean_squared_error(y_test, prediction_test)),2)))\n",
    "print('R_squared:'+ str(round(r2_score(y_test,prediction_test),2)))"
   ]
  }
 ],
 "metadata": {
  "kernelspec": {
   "display_name": "Python 3",
   "language": "python",
   "name": "python3"
  },
  "language_info": {
   "codemirror_mode": {
    "name": "ipython",
    "version": 3
   },
   "file_extension": ".py",
   "mimetype": "text/x-python",
   "name": "python",
   "nbconvert_exporter": "python",
   "pygments_lexer": "ipython3",
   "version": "3.9.5"
  }
 },
 "nbformat": 4,
 "nbformat_minor": 5
}
